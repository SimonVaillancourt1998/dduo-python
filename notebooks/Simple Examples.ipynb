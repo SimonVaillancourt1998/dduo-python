{
 "cells": [
  {
   "cell_type": "markdown",
   "metadata": {},
   "source": [
    "# Simple Examples With Duet\n",
    "\n",
    "This notebook contains simple examples of using Duet to run basic queries on a dataset.\n",
    "\n",
    "Contents:\n",
    "- [Laplace Examples:](#laplace)\n",
    "    - [Counting Query](#counting)\n",
    "    - [Sum Query](#sum)\n",
    "    - [Average Query](#average)\n",
    "    - [Range Query](#range)\n",
    "    - [Parallel Composition](#parallel)\n",
    "- [Other Examples:](#other)\n",
    "    - [Count Query using Renyi-Gauss differential privacy](#counting-rdp)\n",
    "    - [Average query using Sparse Vector Technique](#average-svt)"
   ]
  },
  {
   "cell_type": "markdown",
   "metadata": {},
   "source": [
    "### Setup"
   ]
  },
  {
   "cell_type": "code",
   "execution_count": 2,
   "metadata": {},
   "outputs": [],
   "source": [
    "import duet\n",
    "\n",
    "from duet import pandas as pd\n",
    "from duet import numpy as np\n",
    "\n",
    "import matplotlib.pyplot as plt\n",
    "\n",
    "adult_data = pd.read_csv(\"adult_with_pii.csv\")"
   ]
  },
  {
   "cell_type": "markdown",
   "metadata": {},
   "source": [
    "## Laplace Examples <a name=\"laplace\"></a>"
   ]
  },
  {
   "cell_type": "markdown",
   "metadata": {},
   "source": [
    "### Counting Query <a name=\"counting\"></a>"
   ]
  },
  {
   "cell_type": "code",
   "execution_count": 3,
   "metadata": {
    "scrolled": true
   },
   "outputs": [
    {
     "name": "stdout",
     "output_type": "stream",
     "text": [
      "Query result: 10683.147075430106\n",
      "Privacy cost: ([DataSource(adult_with_pii.csv): (0.01, 0)])\n"
     ]
    }
   ],
   "source": [
    "def dp_counting_query(df, col, val, epsilon):\n",
    "    \"\"\" Returns a differentially private answer to a counting query \n",
    "    using the laplace function with privacy cost epsilon\n",
    "    \n",
    "    Args:\n",
    "    df -- dataframe \n",
    "    col -- column in the dataframe to count\n",
    "    val -- value to check for count\n",
    "    epsilon -- privacy cost\n",
    "    \"\"\"\n",
    "    \n",
    "    val = df[df[col] == val].shape[0]\n",
    "    return duet.laplace(val, ε=epsilon)\n",
    "\n",
    "epsilon = 0.01\n",
    "with duet.EDOdometer() as odo:\n",
    "    print('Query result:', dp_counting_query(adult_data, 'Marital Status', 'Never-married', epsilon))\n",
    "    print('Privacy cost:', odo)"
   ]
  },
  {
   "cell_type": "markdown",
   "metadata": {},
   "source": [
    "### Sum Query <a name=\"sum\"></a>"
   ]
  },
  {
   "cell_type": "code",
   "execution_count": 4,
   "metadata": {
    "scrolled": true
   },
   "outputs": [
    {
     "name": "stdout",
     "output_type": "stream",
     "text": [
      "Query result: 1265330.1599048548\n",
      "Privacy cost: ([DataSource(adult_with_pii.csv): (0.01, 0)])\n"
     ]
    }
   ],
   "source": [
    "def dp_sum_query(df, col, clip_lower, clip_upper, epsilon):\n",
    "    \"\"\" Returns a differentially private answer to a sum query \n",
    "    using the laplace function with privacy cost epsilon\n",
    "    \n",
    "    Args:\n",
    "    df -- dataframe \n",
    "    col -- column in the dataframe to count\n",
    "    clip_lower -- lower clipping parameter\n",
    "    clip_upper -- upper clipping parameter\n",
    "    epsilon -- privacy cost\n",
    "    \"\"\"\n",
    "    \n",
    "    clip_sum = df[col].clip(clip_lower, clip_upper).sum() \n",
    "    return duet.laplace(clip_sum, ε=epsilon)\n",
    "\n",
    "epsilon = 0.01\n",
    "with duet.EDOdometer() as odo:\n",
    "    print('Query result:', dp_sum_query(adult_data, 'Age', 0, 100, epsilon))\n",
    "    print('Privacy cost:', odo)"
   ]
  },
  {
   "cell_type": "markdown",
   "metadata": {},
   "source": [
    "### Average Query <a name=\"average\"></a>"
   ]
  },
  {
   "cell_type": "code",
   "execution_count": 5,
   "metadata": {},
   "outputs": [
    {
     "name": "stdout",
     "output_type": "stream",
     "text": [
      "Query result: 38.674806527974866\n",
      "Privacy cost: ([DataSource(adult_with_pii.csv): (0.01, 0)])\n"
     ]
    }
   ],
   "source": [
    "def dp_avg_query(df, col, clip_lower, clip_upper, epsilon):\n",
    "    \"\"\" Returns a differentially private answer to a counting query \n",
    "    using the laplace function with privacy cost epsilon\n",
    "    \n",
    "    Args:\n",
    "    df -- dataframe \n",
    "    col -- column in the dataframe to count\n",
    "    clip_lower -- lower clipping parameter\n",
    "    clip_upper -- upper clipping parameter\n",
    "    epsilon -- privacy cost\n",
    "    \"\"\"\n",
    "    \n",
    "    clip_sum = df[col].clip(clip_lower, clip_upper).sum() \n",
    "    noisy_sum = duet.laplace(clip_sum, ε=epsilon / 2)\n",
    "    \n",
    "    count = df.shape[0]\n",
    "    noisy_count = duet.laplace(count, ε=epsilon / 2)\n",
    "    \n",
    "    return noisy_sum / noisy_count\n",
    "\n",
    "epsilon = 0.01\n",
    "with duet.EDOdometer() as odo:\n",
    "    print('Query result:', dp_avg_query(adult_data, 'Age', 0, 100, epsilon))\n",
    "    print('Privacy cost:', odo)"
   ]
  },
  {
   "cell_type": "markdown",
   "metadata": {},
   "source": [
    "### Range Query <a name=\"range\"></a>"
   ]
  },
  {
   "cell_type": "code",
   "execution_count": 6,
   "metadata": {
    "scrolled": true
   },
   "outputs": [
    {
     "name": "stdout",
     "output_type": "stream",
     "text": [
      "Query result: 9851.34126151757\n",
      "Privacy cost: ([DataSource(adult_with_pii.csv): (0.01, 0)])\n"
     ]
    }
   ],
   "source": [
    "def dp_range_query(df, col, lower, upper, epsilon):\n",
    "    \"\"\" Returns a differentially private answer to a range query\n",
    "    using the laplace function with privacy cost epsilon\n",
    "    \n",
    "    Args:\n",
    "    df -- dataframe \n",
    "    col -- column in the dataframe to count\n",
    "    lower -- lower bound of the range\n",
    "    upper -- upper bound of the range\n",
    "    epsilon -- privacy cost\n",
    "    \"\"\"\n",
    "    query = df[(df[col] >= lower) & (df[col] < upper)].shape[0]\n",
    "    return duet.laplace(query, ε=epsilon)\n",
    "\n",
    "epsilon = 0.01\n",
    "with duet.EDOdometer() as odo:\n",
    "    print('Query result:', dp_range_query(adult_data, 'Age', 20, 32, epsilon))\n",
    "    print('Privacy cost:', odo)"
   ]
  },
  {
   "cell_type": "markdown",
   "metadata": {},
   "source": [
    "### Parallel Composition <a name=\"parallel\"></a>"
   ]
  },
  {
   "cell_type": "code",
   "execution_count": 7,
   "metadata": {
    "scrolled": true
   },
   "outputs": [
    {
     "name": "stdout",
     "output_type": "stream",
     "text": [
      "                     0\n",
      "Education             \n",
      "10th        933.204570\n",
      "11th       1174.588546\n",
      "12th        431.594554\n",
      "1st-4th     167.199422\n",
      "5th-6th     333.359135\n",
      "Privacy cost: ([DataSource(adult_with_pii.csv): (1, 0)])\n"
     ]
    }
   ],
   "source": [
    "def dp_histogram_parallel(df, col, epsilon):\n",
    "    \"\"\" Returns a differentially private answer histogram using the laplace mechanism\n",
    "    and parallel composition with privacy cost epsilon\n",
    "    \n",
    "    Args:\n",
    "    df -- dataframe \n",
    "    col -- column in the dataframe to generate histogram\n",
    "    epsilon -- privacy cost\n",
    "    \"\"\"\n",
    "    return duet.laplace(df.groupby(col).size(), epsilon=epsilon)\n",
    "\n",
    "epsilon = 1\n",
    "with duet.EDOdometer() as odo:\n",
    "    hist = dp_histogram_parallel(adult_data, 'Education', epsilon) \n",
    "    print(hist.to_frame().head(5))\n",
    "    print('Privacy cost:', odo)"
   ]
  },
  {
   "cell_type": "markdown",
   "metadata": {},
   "source": [
    "## Other Examples <a name=\"other\"></a>"
   ]
  },
  {
   "cell_type": "markdown",
   "metadata": {},
   "source": [
    "### Renyi-Gauss Counting Query <a name=\"counting-rdp\"></a>"
   ]
  },
  {
   "cell_type": "code",
   "execution_count": 10,
   "metadata": {
    "scrolled": true
   },
   "outputs": [
    {
     "name": "stdout",
     "output_type": "stream",
     "text": [
      "Query result: 32575.49906350958\n",
      "Privacy cost: (5, 0.02)\n"
     ]
    }
   ],
   "source": [
    "def count_RDP(df, alpha, epsilon):\n",
    "    \"\"\" Returns a differentially private length of database\n",
    "    using Renyi Differential privacy\n",
    "    \n",
    "    Args:\n",
    "    df -- dataframe \n",
    "    alpha -- alpha value for RDP\n",
    "    epsilon -- epsilon value for RDP\n",
    "    \"\"\"\n",
    "    \n",
    "    return duet.renyi_gauss(df.shape[0], alpha=alpha, epsilon=epsilon)\n",
    "\n",
    "alpha = 5\n",
    "epsilon = 0.01\n",
    "delta = (alpha, epsilon)\n",
    "with duet.RenyiOdometer(delta) as odo:\n",
    "    print('Query result:', count_RDP(adult_data, alpha, epsilon))\n",
    "    print('Privacy cost:', odo)"
   ]
  },
  {
   "cell_type": "markdown",
   "metadata": {},
   "source": [
    "### Average using Sparse Vector Technique <a name=\"average-svt\"></a>"
   ]
  },
  {
   "cell_type": "code",
   "execution_count": 11,
   "metadata": {},
   "outputs": [
    {
     "name": "stdout",
     "output_type": "stream",
     "text": [
      "Query result: 38.59107411862699\n",
      "Privacy cost: ([DataSource(adult_with_pii.csv): (1.0, 0)])\n"
     ]
    }
   ],
   "source": [
    "def auto_avg_svt(df, col, bs, epsilon):\n",
    "    \"\"\" Returns a differentially private answer to a counting query \n",
    "    using the laplace function with privacy cost epsilon\n",
    "    \n",
    "    Args:\n",
    "    df -- dataframe \n",
    "    col -- column in the dataframe to count\n",
    "    clip_lower -- lower clipping parameter\n",
    "    epsilon -- privacy cost\n",
    "    \"\"\"\n",
    "    \n",
    "    def create_query(b):\n",
    "        \"\"\" Helper function for auto_avg_svt to help generate queries\"\"\"\n",
    "        return lambda df: df[col].clip(0, b).sum() - df[col].clip(0, b+1).sum()\n",
    "    \n",
    "    queries = [create_query(b) for b in bs]\n",
    "    \n",
    "    #Use 1/3 of privacy budget for each part\n",
    "    final_b = bs[duet.above_threshold(queries, df, 0, epsilon / 3)]\n",
    "    noisy_sum = duet.laplace(df[col].clip(0, final_b).sum(), epsilon=epsilon / 3)\n",
    "    noisy_count = duet.laplace(df.shape[0], epsilon=epsilon / 3)\n",
    "    \n",
    "    return noisy_sum / noisy_count\n",
    "\n",
    "bs = range(1,150000,5)\n",
    "epsilon = 1\n",
    "with duet.EDOdometer() as odo:\n",
    "    print('Query result:', auto_avg_svt(adult_data, 'Age', bs, epsilon))\n",
    "    print('Privacy cost:', odo)"
   ]
  }
 ],
 "metadata": {
  "kernelspec": {
   "display_name": "Python 3",
   "language": "python",
   "name": "python3"
  },
  "language_info": {
   "codemirror_mode": {
    "name": "ipython",
    "version": 3
   },
   "file_extension": ".py",
   "mimetype": "text/x-python",
   "name": "python",
   "nbconvert_exporter": "python",
   "pygments_lexer": "ipython3",
   "version": "3.7.7"
  }
 },
 "nbformat": 4,
 "nbformat_minor": 4
}
