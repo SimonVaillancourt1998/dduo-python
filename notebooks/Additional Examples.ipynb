{
 "cells": [
  {
   "cell_type": "markdown",
   "metadata": {},
   "source": [
    "# Complex Examples With Duet\n",
    "\n",
    "This notebook contains more complex examples of using Duet to run queries on a dataset.\n",
    "\n",
    "Contents:\n",
    "- [Laplace Examples:](#laplace)\n",
    "    - [Auto Average](#auto-average)\n",
    "    - [Report Noisy Max](#noisy-max)\n",
    "- [Sparse Vector Technique:](#svt)\n",
    "    - [Range Query](#range)\n",
    "    - [Bounded Above](#bounded-above)\n",
    "- [Graphical:](#graph)\n",
    "    - [Cummulative Distribution](#cdf)\n",
    "    - [Histogram](#histogram)\n",
    "- [Applications:](#applications)\n",
    "    - [Hierarchical Queryies](#census)\n",
    "    - [Auto stats](#stats)\n",
    "    "
   ]
  },
  {
   "cell_type": "markdown",
   "metadata": {},
   "source": [
    "### Setup"
   ]
  },
  {
   "cell_type": "code",
   "execution_count": 1,
   "metadata": {},
   "outputs": [],
   "source": [
    "import duet\n",
    "from duet import pandas as pd\n",
    "from duet import numpy as np\n",
    "import matplotlib.pyplot as plt\n",
    "\n",
    "adult_data = pd.read_csv(\"adult_with_pii.csv\")"
   ]
  },
  {
   "cell_type": "markdown",
   "metadata": {},
   "source": [
    "### Auto Average using Laplace <a name=\"auto-average\"></a>"
   ]
  },
  {
   "cell_type": "code",
   "execution_count": 2,
   "metadata": {
    "scrolled": true
   },
   "outputs": [
    {
     "name": "stdout",
     "output_type": "stream",
     "text": [
      "Query result: -870444.4504308212\n",
      "Privacy cost: ([DataSource(adult_with_pii.csv): (0.00909090909090909, 0)])\n"
     ]
    }
   ],
   "source": [
    "def dp_auto_avg(df, col, bs, clip_lower, epsilon):\n",
    "    \"\"\" Returns a differentially private answer to a counting query \n",
    "    using the laplace function with privacy cost epsilon\n",
    "    \n",
    "    Args:\n",
    "    df -- dataframe \n",
    "    col -- column in the dataframe to count\n",
    "    clip_lower -- lower clipping parameter\n",
    "    epsilon -- privacy cost\n",
    "    \"\"\"\n",
    "    \n",
    "    n = len(bs)\n",
    "    epsilon_i = epsilon / (n + 1)\n",
    "    \n",
    "    noisy_count = duet.laplace(df[col].shape[0], ε=epsilon_i)\n",
    "    last_val = 0\n",
    "    for b in bs:\n",
    "        noisy_sum = duet.laplace(df[col].clip(clip_lower, b).sum(), ε=epsilon_i)\n",
    "        noisy_avg = noisy_sum / noisy_count\n",
    "        \n",
    "        if abs(noisy_avg - last_val) < 0.01 * b:\n",
    "            return last_val\n",
    "        else:\n",
    "            last_val = noisy_avg\n",
    "\n",
    "epsilon = 0.01\n",
    "bs = [10**n for n in range(10)]\n",
    "with duet.EDOdometer() as odo:\n",
    "    print('Query result:', dp_auto_avg(adult_data, 'Age', bs, 0, epsilon))\n",
    "    print('Privacy cost:', odo)"
   ]
  },
  {
   "cell_type": "markdown",
   "metadata": {},
   "source": [
    "### Report Noisy Max using Laplace <a name=\"noisy-max\"></a>"
   ]
  },
  {
   "cell_type": "code",
   "execution_count": 3,
   "metadata": {
    "scrolled": true
   },
   "outputs": [
    {
     "name": "stdout",
     "output_type": "stream",
     "text": [
      "Query result: Married-civ-spouse\n",
      "Privacy cost: ([DataSource(adult_with_pii.csv): (0.07, 0)])\n"
     ]
    }
   ],
   "source": [
    "def report_noisy_max(df, col, R, epsilon):\n",
    "    \"\"\" Returns a differentially private answer to a max query\n",
    "    using the laplace function with privacy cost R * epsilon\n",
    "    \n",
    "    Args:\n",
    "    df -- dataframe \n",
    "    col -- column in the dataframe to count\n",
    "    R -- different options to find max of\n",
    "    epsilon -- privacy cost\n",
    "    \"\"\"\n",
    "    \n",
    "    \n",
    "    def score(df, col, option):\n",
    "        \"\"\" Helper method to return the size of a category\n",
    "        \n",
    "        Args:\n",
    "        df -- dataframe\n",
    "        col -- column in the dataframe to count\n",
    "        option -- value in the dataframe to count\n",
    "        \"\"\"    \n",
    "        return df[df[col] == option].shape[0]\n",
    "    \n",
    "    \n",
    "    scores = [score(df, col, r) for r in R]\n",
    "    noisy_scores = [duet.laplace(score, ε=epsilon) for score in scores]\n",
    "    max_score = max(noisy_scores)\n",
    "    max_score_idx = noisy_scores.index(max_score)\n",
    "    \n",
    "    return R[max_score_idx]\n",
    "\n",
    "\n",
    "# List of all options in 'Marital Status' column\n",
    "options = ['Never-married', 'Married-civ-spouse', 'Divorced',\n",
    "           'Married-spouse-absent', 'Separated', 'Married-AF-spouse',\n",
    "           'Widowed']\n",
    "\n",
    "epsilon = 0.01\n",
    "with duet.EDOdometer() as odo:\n",
    "    print('Query result:', report_noisy_max(adult_data, 'Marital Status', options, epsilon))\n",
    "    print('Privacy cost:', odo)"
   ]
  },
  {
   "cell_type": "markdown",
   "metadata": {},
   "source": [
    "## Sparse Vector Technique"
   ]
  },
  {
   "cell_type": "markdown",
   "metadata": {},
   "source": [
    "### Range Query using Sparse Vector Technique <a name=\"range\"></a>"
   ]
  },
  {
   "cell_type": "code",
   "execution_count": 4,
   "metadata": {
    "scrolled": true
   },
   "outputs": [
    {
     "name": "stdout",
     "output_type": "stream",
     "text": [
      "Query result: [11591.571456926284, 18260.063298302823, 11283.16172000147, 14986.808424502125, 10285.107079256964]\n",
      "Privacy cost: ([DataSource(adult_with_pii.csv): (0.9999999999999999, 0)])\n"
     ]
    }
   ],
   "source": [
    "def sparse(queries, df, c, T, epsilon):\n",
    "    \"\"\" Duet implementation of the sparse algorithm\n",
    "    from Dwork and Roth\n",
    "    \"\"\"\n",
    "    idxs = []\n",
    "    pos = 0\n",
    "    epsilon_i = epsilon / c\n",
    "    \n",
    "    while pos < len(queries) and len(idxs) < c:\n",
    "        next_idx = duet.above_threshold(queries[pos:], df, T, epsilon_i)\n",
    "        \n",
    "        if next_idx == -1:\n",
    "            return idxs\n",
    "        \n",
    "        pos = next_idx+pos\n",
    "        idxs.append(pos)\n",
    "        pos = pos + 1\n",
    "\n",
    "    return idxs\n",
    "\n",
    "def range_query(df, col, lower, upper):\n",
    "    df1 = df[df[col] > lower]\n",
    "    return (df1[df1[col] < upper]).shape[0]\n",
    "\n",
    "def create_random_range_query(col):\n",
    "    lower = np.random.randint(30, 50)\n",
    "    upper = np.random.randint(lower, 70)\n",
    "    return lambda df: range_query(df, col, lower, upper)\n",
    "\n",
    "def range_query_svt(df, queries, c, T, epsilon):\n",
    "    \"\"\" Returns a differentially private answer list of range queries\n",
    "    using the sparse vector technique\n",
    "    \n",
    "    Args:\n",
    "    df -- dataframe \n",
    "    queries -- list of values to check bounded above\n",
    "    c -- number of answers returned\n",
    "    T -- above_threshold value\n",
    "    epsilon -- privacy cost\n",
    "    \"\"\"\n",
    "    sparse_epsilon = epsilon / 2\n",
    "    indices = sparse(queries, df, c, T, sparse_epsilon)\n",
    "    \n",
    "    laplace_epsilon = epsilon / (2*c)\n",
    "    results = [duet.laplace(queries[i](df), epsilon=laplace_epsilon) for i in indices]\n",
    "    return results\n",
    "\n",
    "range_queries = [create_random_range_query('Age') for i in range(10)]\n",
    "with duet.EDOdometer() as odo:\n",
    "    print('Query result:', range_query_svt(adult_data, range_queries, 5, 10000, 1))\n",
    "    print('Privacy cost:', odo)"
   ]
  },
  {
   "cell_type": "markdown",
   "metadata": {},
   "source": [
    "### Bounded Above Query <a name=\"bounded-above\"></a>"
   ]
  },
  {
   "cell_type": "code",
   "execution_count": 5,
   "metadata": {
    "scrolled": true
   },
   "outputs": [
    {
     "name": "stdout",
     "output_type": "stream",
     "text": [
      "Query result: [14975.921790337685, 10682.857890582498, 4442.056086286525, 1025.3125523491387]\n",
      "Privacy cost: ([DataSource(adult_with_pii.csv): (10.0, 0)])\n"
     ]
    }
   ],
   "source": [
    "def value_query(df, col, i):\n",
    "    return  lambda df: (df[col].value_counts()[i])\n",
    "\n",
    "def bounded_all_above_x(df, queries, x, c, epsilon):\n",
    "    \"\"\" Returns a differentially private answer to a bounded above query\n",
    "    using the sparse vector technique\n",
    "    \n",
    "    Args:\n",
    "    df -- dataframe \n",
    "    queries -- list of values to check bounded above\n",
    "    x --  threshold for bounded above\n",
    "    c -- number of answers returned\n",
    "    epsilon -- privacy cost\n",
    "    \"\"\"\n",
    "    answers = []\n",
    "    pos = 0\n",
    "    T = x\n",
    "    epsilon_i = epsilon / (c*2)\n",
    "    \n",
    "    while len(answers) < c:\n",
    "        answer_idx = duet.above_threshold(queries[pos:], adult_data, T, epsilon_i)\n",
    "        if answer_idx == None:\n",
    "            break\n",
    "        pos = pos + answer_idx\n",
    "        answers.append(duet.laplace(queries[pos:][0](df), epsilon=epsilon_i))\n",
    "        pos = pos + 1\n",
    "        \n",
    "    return answers\n",
    "\n",
    "queries = [value_query(adult_data, 'Marital Status', i) for i in range(7)]\n",
    "x = 500\n",
    "c = 4\n",
    "epsilon = 10\n",
    "with duet.EDOdometer() as odo:\n",
    "    print('Query result:', bounded_all_above_x(adult_data, queries, x, c, epsilon))\n",
    "    print('Privacy cost:', odo)"
   ]
  },
  {
   "cell_type": "markdown",
   "metadata": {},
   "source": [
    "## Graphical Examples  <a name=\"graph\"></a>"
   ]
  },
  {
   "cell_type": "markdown",
   "metadata": {},
   "source": [
    "### Cumulative Distribution Function <a name=\"cdf\"></a>"
   ]
  },
  {
   "cell_type": "code",
   "execution_count": 7,
   "metadata": {
    "scrolled": false
   },
   "outputs": [
    {
     "name": "stdout",
     "output_type": "stream",
     "text": [
      "Privacy cost: (5, 0.06100000000000005)\n"
     ]
    },
    {
     "data": {
      "image/png": "[encoded data removed]",
      "text/plain": [
       "<Figure size 432x288 with 1 Axes>"
      ]
     },
     "metadata": {
      "needs_background": "light"
     },
     "output_type": "display_data"
    }
   ],
   "source": [
    "def calculate_cdf(df, col, val_lower, val_upper, alpha, epsilon):\n",
    "    \"\"\" Returns a differentially private cumulative density \n",
    "    using alpha-epsilon Renyi differential privacy \n",
    "    \n",
    "    Args:\n",
    "    df -- dataframe \n",
    "    col -- column in the dataframe to count\n",
    "    val_lower -- lower value to start from\n",
    "    val_upper -- upper value to end at\n",
    "    alpha -- alpha value for RDP\n",
    "    epsilon -- epsilon value for RDP\n",
    "    \"\"\"\n",
    "    \n",
    "    cdf_vals = []\n",
    "    for val in range(val_lower, val_upper):\n",
    "        count = df[df[col] <= val].shape[0]\n",
    "        noisy_count = duet.renyi_gauss(count, alpha=alpha, epsilon=epsilon)\n",
    "        cdf_vals.append(noisy_count)\n",
    "    return cdf_vals\n",
    "\n",
    "alpha = 5\n",
    "epsilon = 0.001\n",
    "with duet.RenyiOdometer((alpha, epsilon)) as odo:\n",
    "    cdf_vals = calculate_cdf(adult_data, 'Age', 20, 80, 5, 0.001)\n",
    "    plt.plot(range(20, 80), cdf_vals)\n",
    "    print('Privacy cost:', odo)"
   ]
  },
  {
   "cell_type": "markdown",
   "metadata": {},
   "source": [
    "### Histogram <a name=\"hist\"></a>"
   ]
  },
  {
   "cell_type": "code",
   "execution_count": 8,
   "metadata": {
    "scrolled": true
   },
   "outputs": [
    {
     "name": "stdout",
     "output_type": "stream",
     "text": [
      "Ages between 30 and 42 using the histogram: 10284.293267314764\n",
      "Privacy cost: ([DataSource(adult_with_pii.csv): (9.99999999999998, 0)])\n"
     ]
    },
    {
     "data": {
      "image/png": "[encoded data removed]",
      "text/plain": [
       "<Figure size 432x288 with 1 Axes>"
      ]
     },
     "metadata": {
      "needs_background": "light"
     },
     "output_type": "display_data"
    }
   ],
   "source": [
    "def hist_dp(df, col, lower, upper, epsilon):\n",
    "    \"\"\" Returns a differentially private histogram\n",
    "    using the laplace function\n",
    "    \n",
    "    Args:\n",
    "    df -- dataframe \n",
    "    col -- column in the dataframe to count\n",
    "    lower -- lower value to start from\n",
    "    upper -- upper value to end at\n",
    "    epsilon -- epsilon value for DP\n",
    "    \"\"\"\n",
    "    \n",
    "    vals = range(lower, upper)\n",
    "    hist = [(df[df[col] == val]).shape[0] for val in vals]\n",
    "    noisy_hist = [duet.laplace(v, ε=epsilon) for v in hist]\n",
    "    return noisy_hist\n",
    "\n",
    "epsilon = 0.1\n",
    "with duet.EDOdometer() as odo:\n",
    "    hist = hist_dp(adult_data, 'Age', 0, 100, epsilon)\n",
    "    plt.plot(hist);\n",
    "\n",
    "    #Using the histogram to get the ages in a certain range\n",
    "    lower = 30\n",
    "    upper = 42\n",
    "\n",
    "    total = 0\n",
    "    for i in range(lower, upper):\n",
    "        total += hist[i]\n",
    "    print('Ages between', lower, 'and', upper, 'using the histogram:', total)\n",
    "    print('Privacy cost:', odo)"
   ]
  },
  {
   "cell_type": "markdown",
   "metadata": {},
   "source": [
    "## Applications <a name=\"applications\"></a>"
   ]
  },
  {
   "cell_type": "markdown",
   "metadata": {},
   "source": [
    "### Sample Census calculation <a name=\"census\"></a>"
   ]
  },
  {
   "cell_type": "code",
   "execution_count": 9,
   "metadata": {},
   "outputs": [
    {
     "name": "stdout",
     "output_type": "stream",
     "text": [
      "Query result: [CensusTract\n",
      "1001020100      1900.122596\n",
      "1001020200      2157.669505\n",
      "1001020300      2955.471758\n",
      "1001020400      4336.304082\n",
      "1001020500     10780.949138\n",
      "                   ...     \n",
      "72153750501     6271.641739\n",
      "72153750502     2065.623715\n",
      "72153750503     2285.597708\n",
      "72153750601     5264.454045\n",
      "72153750602     2753.182250\n",
      "Name: TotalPop, Length: 74001, dtype: float64, State\n",
      "Alabama                 4.830612e+06\n",
      "Alaska                  7.333544e+05\n",
      "Arizona                 6.641925e+06\n",
      "Arkansas                2.958168e+06\n",
      "California              3.842145e+07\n",
      "Colorado                5.278863e+06\n",
      "Connecticut             3.593115e+06\n",
      "Delaware                9.264500e+05\n",
      "District of Columbia    6.474774e+05\n",
      "Florida                 1.964581e+07\n",
      "Georgia                 1.000661e+07\n",
      "Hawaii                  1.406283e+06\n",
      "Idaho                   1.616600e+06\n",
      "Illinois                1.287379e+07\n",
      "Indiana                 6.568698e+06\n",
      "Iowa                    3.093494e+06\n",
      "Kansas                  2.892994e+06\n",
      "Kentucky                4.397364e+06\n",
      "Louisiana               4.625264e+06\n",
      "Maine                   1.329133e+06\n",
      "Maryland                5.930463e+06\n",
      "Massachusetts           6.705574e+06\n",
      "Michigan                9.900609e+06\n",
      "Minnesota               5.419172e+06\n",
      "Mississippi             2.988094e+06\n",
      "Missouri                6.045503e+06\n",
      "Montana                 1.014672e+06\n",
      "Nebraska                1.869392e+06\n",
      "Nevada                  2.798691e+06\n",
      "New Hampshire           1.324209e+06\n",
      "New Jersey              8.904432e+06\n",
      "New Mexico              2.084122e+06\n",
      "New York                1.967319e+07\n",
      "North Carolina          9.845363e+06\n",
      "North Dakota            7.216614e+05\n",
      "Ohio                    1.157590e+07\n",
      "Oklahoma                3.849729e+06\n",
      "Oregon                  3.939217e+06\n",
      "Pennsylvania            1.277952e+07\n",
      "Puerto Rico             3.583141e+06\n",
      "Rhode Island            1.053657e+06\n",
      "South Carolina          4.777589e+06\n",
      "South Dakota            8.432452e+05\n",
      "Tennessee               6.499615e+06\n",
      "Texas                   2.653865e+07\n",
      "Utah                    2.903440e+06\n",
      "Vermont                 6.265930e+05\n",
      "Virginia                8.256670e+06\n",
      "Washington              6.985471e+06\n",
      "West Virginia           1.851472e+06\n",
      "Wisconsin               5.742130e+06\n",
      "Wyoming                 5.796850e+05\n",
      "Name: TotalPop, dtype: float64, County\n",
      "Abbeville                     25001.286182\n",
      "Acadia                        62186.700139\n",
      "Accomack                      33121.010972\n",
      "Ada                          417516.894723\n",
      "Adair                         74066.081254\n",
      "                                 ...      \n",
      "Yukon-Koyukuk Census Area      5666.555171\n",
      "Yuma                         213162.039131\n",
      "Zapata                        14302.471233\n",
      "Zavala                        12014.261830\n",
      "Ziebach                        2846.527953\n",
      "Name: TotalPop, Length: 1928, dtype: float64]\n",
      "Privacy cost: ([DataSource(census_data.csv): (0.1, 0)])\n"
     ]
    }
   ],
   "source": [
    "census_data = pd.read_csv('census_data.csv')\n",
    "\n",
    "def hierarchical_query(df, cols, sum_col, epsilon):\n",
    "    \"\"\" Returns a hierarchical query using parallel composition on each level\n",
    "    \n",
    "    Args:\n",
    "    df -- dataframe \n",
    "    cols -- columns in the dataframe to count\n",
    "    sum_col -- column in the dataframe to count \n",
    "    epsilon -- epsilon value for DP\n",
    "    \"\"\"\n",
    "    sums = []\n",
    "    for col in cols:\n",
    "        sums.append(duet.laplace(df.groupby(col)[sum_col].sum(), epsilon=epsilon / len(cols)))\n",
    "    return sums\n",
    "\n",
    "\n",
    "epsilon = 0.1\n",
    "with duet.EDOdometer() as odo:\n",
    "    print('Query result:', hierarchical_query(census_data, ['CensusTract', 'State', 'County'], 'TotalPop', epsilon))\n",
    "    print('Privacy cost:', odo)"
   ]
  },
  {
   "cell_type": "markdown",
   "metadata": {},
   "source": [
    "### Auto generated statistics <a name=\"stats\"></a>"
   ]
  },
  {
   "cell_type": "code",
   "execution_count": 10,
   "metadata": {},
   "outputs": [
    {
     "name": "stdout",
     "output_type": "stream",
     "text": [
      "Mean: 70.10566993195486 Standard Deviation: 34.351070043668\n",
      "Privacy cost: ([DataSource(adult_with_pii.csv): (10.0, 0)])\n"
     ]
    }
   ],
   "source": [
    "import math\n",
    "\n",
    "def auto_stats_svt(df, col, epsilon):\n",
    "    \"\"\" Returns the mean and standard deviation of a column of a dataset\n",
    "    automatically computes lower and upper clipping bounds\n",
    "    \n",
    "    Args:\n",
    "    df -- dataframe \n",
    "    col -- column in the dataframe to get stats of\n",
    "    epsilon -- epsilon value for DP\n",
    "    \"\"\"\n",
    "    \n",
    "    #helper functions to generate queries\n",
    "    def lower(col, b):\n",
    "        \"\"\" Helper function to generate a lower clipping bound\"\"\"\n",
    "        return lambda df: df[col].clip(0, b).sum() - df[col].clip(0, b+1).sum()\n",
    "    \n",
    "    def upper(col, lower_b, b):\n",
    "        \"\"\" Helper function to generate an upper clipping bound\"\"\"\n",
    "        return lambda df: df[col].clip(lower_b, b+1).sum() - df[col].clip(lower_b, b).sum()\n",
    "    \n",
    "    #generate clipping bounds using SVT\n",
    "    lower_queries = [lower(col, b) for b in bs]\n",
    "    lower_b = bs[duet.above_threshold(lower_queries, df, 0, epsilon / 5)]\n",
    "    upper_queries = [upper(col, lower_b, b) for b in reversed(bs)]\n",
    "    upper_b = bs[duet.above_threshold(upper_queries, df, 0, epsilon / 5)]\n",
    "\n",
    "    #mean\n",
    "    noisy_sum = duet.laplace(df[col].clip(upper_b, lower_b).sum(), epsilon=epsilon / 5)\n",
    "    noisy_count = duet.laplace(df.shape[0], epsilon=epsilon / 5)  \n",
    "    mean = noisy_sum / noisy_count\n",
    "    \n",
    "    var = (df[col] - mean)\n",
    "    temp = duet.laplace(var, epsilon=epsilon/5)\n",
    "    var = (1 / noisy_count) * ((temp**2).sum())\n",
    "    std_dev = math.sqrt(var)\n",
    "    \n",
    "    return mean, std_dev\n",
    "    \n",
    "bs = list(range(0, 200, 10))\n",
    "epsilon = 10\n",
    "with duet.EDOdometer() as odo:\n",
    "    mean, std_dev = auto_stats_svt(adult_data, 'Age', epsilon)\n",
    "    print('Mean:', mean, \"Standard Deviation:\", std_dev)\n",
    "    print('Privacy cost:', odo)"
   ]
  }
 ],
 "metadata": {
  "kernelspec": {
   "display_name": "Python 3",
   "language": "python",
   "name": "python3"
  },
  "language_info": {
   "codemirror_mode": {
    "name": "ipython",
    "version": 3
   },
   "file_extension": ".py",
   "mimetype": "text/x-python",
   "name": "python",
   "nbconvert_exporter": "python",
   "pygments_lexer": "ipython3",
   "version": "3.7.7"
  }
 },
 "nbformat": 4,
 "nbformat_minor": 4
}
