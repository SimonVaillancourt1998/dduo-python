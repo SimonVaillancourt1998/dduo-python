{
 "cells": [
  {
   "cell_type": "code",
   "execution_count": 2,
   "metadata": {},
   "outputs": [],
   "source": [
    "import duet\n",
    "import numpy as real_numpy\n",
    "from duet import pandas as pd\n",
    "from duet import numpy as np\n",
    "from duet import map \n",
    "from duet import L2 \n",
    "from duet import LInf \n",
    "from duet import zip \n",
    "import matplotlib.pyplot as plt\n",
    "import urllib.request\n",
    "import os"
   ]
  },
  {
   "cell_type": "code",
   "execution_count": 3,
   "metadata": {
    "scrolled": true
   },
   "outputs": [],
   "source": [
    "epsilon = 1.0\n",
    "alpha = 10 \n",
    "\n",
    "if not os.path.exists('../data_long/'):\n",
    "    os.makedirs('../data_long/')\n",
    "\n",
    "if not os.path.exists('../data_long/adult_processed_x.npy'):\n",
    "    urllib.request.urlretrieve('https://github.com/jnear/cs211-data-privacy/raw/master/slides/adult_processed_x.npy',\n",
    "                               '../data_long/adult_processed_x.npy')\n",
    "    urllib.request.urlretrieve('https://github.com/jnear/cs211-data-privacy/raw/master/slides/adult_processed_y.npy',\n",
    "                               '../data_long/adult_processed_y.npy')\n",
    "\n",
    "X = np.load('../data_long/adult_processed_x.npy')\n",
    "y = np.load('../data_long/adult_processed_y.npy')"
   ]
  },
  {
   "cell_type": "markdown",
   "metadata": {},
   "source": [
    "## Training A Model with Gradient Descent<a name=\"training\"></a>"
   ]
  },
  {
   "cell_type": "markdown",
   "metadata": {},
   "source": [
    "The goal for training this algorithm is to minimize the loss on the training data, while preserving differential privacy. We split the data into 80% training data and 20% testing data."
   ]
  },
  {
   "cell_type": "code",
   "execution_count": 4,
   "metadata": {},
   "outputs": [],
   "source": [
    "training_size = int(X.shape[0] * 0.8)\n",
    "\n",
    "X_train = X[:training_size]\n",
    "X_test = X[training_size:]\n",
    "\n",
    "y_train = y[:training_size]\n",
    "y_test = y[training_size:]"
   ]
  },
  {
   "cell_type": "markdown",
   "metadata": {},
   "source": [
    "## Computing the Gradient<a name=\"gradient\"></a>"
   ]
  },
  {
   "cell_type": "markdown",
   "metadata": {},
   "source": [
    "Gradient descent is an approach to minimize the loss using the gradient (multi-dimensional derivative) of the loss function. Below, we define the gradient `vgradient`, vectorized over numpy arrays."
   ]
  },
  {
   "cell_type": "code",
   "execution_count": 14,
   "metadata": {},
   "outputs": [],
   "source": [
    "def vgradient(theta_in, x_in, y_in, C):\n",
    "    x = x_in\n",
    "    y = y_in\n",
    "    theta = theta_in\n",
    "    exponent = y * np.dot(x, theta)\n",
    "    rhs = (y/(1+np.exp(exponent)))\n",
    "    gradients = -(x*rhs[:, None])\n",
    "    clipped_grads = L2_clip_array(gradients, C)\n",
    "    return np.sum(clipped_grads, axis = 0)"
   ]
  },
  {
   "cell_type": "markdown",
   "metadata": {},
   "source": [
    "## Bounding Sensitivity by Clipping<a name=\"clipping\"></a>"
   ]
  },
  {
   "cell_type": "markdown",
   "metadata": {},
   "source": [
    "The `L2_clip_array` function takes an array in which each row has unbounded sensitivity, and returns one where every row has bounded *L2 sensitivity*. This is a common approach for bounding global sensitivity in machine learning applications, where the gradient function may not have bounded sensitivity. We use the `duet.mode_switch` decorator to tell DDuo about `L2_clip_array`'s effect on sensitivity."
   ]
  },
  {
   "cell_type": "code",
   "execution_count": 16,
   "metadata": {},
   "outputs": [],
   "source": [
    "@duet.mode_switch(LInf, L2)\n",
    "def L2_clip_array(vs , b):\n",
    "    norms = np.linalg.norm(vs, ord = 2, axis = 1)\n",
    "    ratios = vs/norms[:, None]\n",
    "    results = np.where((norms > b)[:, None], b*ratios, vs)\n",
    "    return results\n",
    "\n",
    "def accuracy(theta):\n",
    "    return np.sum(predict(theta, X_test) == y_test)/X_test.shape[0]\n",
    "\n",
    "def predict(theta, xi):\n",
    "    label = np.sign(xi @ theta)\n",
    "    return label"
   ]
  },
  {
   "cell_type": "markdown",
   "metadata": {},
   "source": [
    "## Differential Privacy Gradient Descent<a name=\"differentialprivacy\"></a>"
   ]
  },
  {
   "cell_type": "markdown",
   "metadata": {},
   "source": [
    "The gradient descent algorithm repeatedly computes the gradient, uses the Gaussian mechanism to ensure differential privacy, and updates the model."
   ]
  },
  {
   "cell_type": "code",
   "execution_count": 19,
   "metadata": {},
   "outputs": [
    {
     "name": "stdout",
     "output_type": "stream",
     "text": [
      "Accuracy: 0.8032950022114109\n",
      "Privacy cost: (20, 0.0030000000000000027)\n"
     ]
    }
   ],
   "source": [
    "def dp_gradient_descent(iterations, alpha, epsilon):\n",
    "    eps_i = epsilon/iterations\n",
    "    theta = np.zeros(X_train.shape[1].val)  # leaks the number of features, without privacy\n",
    "    clipping_param = 5\n",
    "    num_examples = X_train.shape[0].val     # leaks the number of training examples, without privacy\n",
    "    for i in range(iterations):\n",
    "        grad_sum        = vgradient(theta, X_train, y_train, clipping_param)\n",
    "        noisy_grad_sum  = duet.renyi_gauss_vec(grad_sum, alpha=alpha, epsilon=eps_i)\n",
    "        noisy_avg_grad  = noisy_grad_sum / num_examples\n",
    "        theta           = theta - noisy_avg_grad\n",
    "\n",
    "    return theta\n",
    "\n",
    "alpha = 20\n",
    "epsilon = .001\n",
    "with duet.RenyiOdometer((alpha, 2*epsilon)) as odo:\n",
    "    print('Accuracy:', accuracy(dp_gradient_descent(20, alpha, epsilon)).val)\n",
    "    print('Privacy cost:', odo)"
   ]
  },
  {
   "cell_type": "markdown",
   "metadata": {},
   "source": [
    "## Effect of Privacy on Accuracy<a name=\"trainingeffect\"></a>"
   ]
  },
  {
   "cell_type": "markdown",
   "metadata": {},
   "source": [
    "To see the effect of privacy on accuracy, we train models with a variety of epsilon values and graph their accuracies. Smaller values of $\\epsilon$ yield higher privacy, but lower accuracy. The graph is jagged instead of smooth, because we run only a single trial for each value of $\\epsilon$ - in a real experiment, we'd run multiple trials and take the average accuracy, to account for the nondeterminism of the privacy mechanism."
   ]
  },
  {
   "cell_type": "code",
   "execution_count": 25,
   "metadata": {},
   "outputs": [
    {
     "name": "stdout",
     "output_type": "stream",
     "text": [
      "Total privacy cost: (20, 0.030700000000000012)\n"
     ]
    }
   ],
   "source": [
    "with duet.RenyiOdometer((alpha, 2*epsilon)) as odo:\n",
    "    epsilons = [0.0001, 0.0003, 0.0005, 0.0008, 0.001, 0.003, 0.005, 0.008, 0.01]\n",
    "    thetas   = [dp_gradient_descent(10, alpha, epsilon) for epsilon in epsilons]\n",
    "    accurate = [accuracy(theta).val for theta in thetas]  # leaks the accuracies, with no privacy\n",
    "    print('Total privacy cost:', odo)"
   ]
  },
  {
   "cell_type": "code",
   "execution_count": 26,
   "metadata": {},
   "outputs": [
    {
     "data": {
      "image/png": "[encoded data removed]",
      "text/plain": [
       "<Figure size 432x288 with 1 Axes>"
      ]
     },
     "metadata": {
      "needs_background": "light"
     },
     "output_type": "display_data"
    }
   ],
   "source": [
    "plt.xlabel('Epsilon')\n",
    "plt.ylabel('Accuracy')\n",
    "plt.plot(epsilons, accurate);"
   ]
  }
 ],
 "metadata": {
  "kernelspec": {
   "display_name": "Python 3",
   "language": "python",
   "name": "python3"
  },
  "language_info": {
   "codemirror_mode": {
    "name": "ipython",
    "version": 3
   },
   "file_extension": ".py",
   "mimetype": "text/x-python",
   "name": "python",
   "nbconvert_exporter": "python",
   "pygments_lexer": "ipython3",
   "version": "3.7.7"
  }
 },
 "nbformat": 4,
 "nbformat_minor": 4
}
